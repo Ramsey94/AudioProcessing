{
 "cells": [
  {
   "cell_type": "code",
   "execution_count": 57,
   "metadata": {},
   "outputs": [
    {
     "data": {
      "text/plain": [
       "'\\nThis tool will help the user saving time while analysing audio records\\n\\nFeatures:\\n    * remove the silence before starting speach\\n    * shorten silences longer than 30 seconds\\n    * remove audio after finishing reading\\n\\nGoals:\\n    * Save time of the listener\\n    * generate report about silences removed\\n    * calculate reading time     \\n\\n\\nAudio signal parameters\\n    -Number of channels\\n    -sample width\\n    -Framerate/ sample_rate\\n    -Number of frames\\n    -Values of a frame\\n'"
      ]
     },
     "execution_count": 57,
     "metadata": {},
     "output_type": "execute_result"
    }
   ],
   "source": [
    "# -*- coding: utf-8 -*-\n",
    "\"\"\"\n",
    "This tool will help the user saving time while analysing audio records\n",
    "\n",
    "Features:\n",
    "    * remove the silence before and after speaking\n",
    "    * shorten silences longer than 30 seconds\n",
    "\n",
    "Goals:\n",
    "    * Save time of the listener\n",
    "    * generate report about silences removed\n",
    "    * calculate reading time     \n",
    "\n",
    "\n",
    "Audio signal parameters\n",
    "    -Number of channels\n",
    "    -sample width\n",
    "    -Framerate/ sample_rate\n",
    "    -Number of frames\n",
    "    -Values of a frame\n",
    "\"\"\""
   ]
  },
  {
   "cell_type": "code",
   "execution_count": 58,
   "metadata": {},
   "outputs": [],
   "source": [
    "##############################################################\n",
    "############ IMPORT LIBRARIES AND STUFF ######################\n",
    "##############################################################\n",
    "\n",
    "import pandas as pd\n",
    "import numpy as np\n",
    "import matplotlib.pylab as plt\n",
    "import seaborn as sns\n",
    "\n",
    "from glob import glob\n",
    "\n",
    "import librosa\n",
    "import librosa.display  \n",
    "import IPython.display as ipd\n",
    "\n",
    "from itertools import cycle\n",
    "\n",
    "sns.set_theme(style=\"white\", palette=None)\n",
    "color_pal = plt.rcParams[\"axes.prop_cycle\"].by_key()[\"color\"]\n",
    "color_cycle = cycle(plt.rcParams[\"axes.prop_cycle\"].by_key()[\"color\"])\n",
    "\n",
    "'''''\n",
    "# For the band pas filter\n",
    "\n",
    "from scipy.signal import filtfilt\n",
    "from scipy import stats\n",
    "import scipy\n",
    "'''''\n",
    "\n",
    "# Mover archivos en carpetas\n",
    "import shutil\n",
    "\n",
    "# import the os module\n",
    "import os\n",
    "from datetime import datetime\n",
    "\n",
    "\n",
    "# Para escribir wav\n",
    "from IPython.display import Audio\n",
    "from scipy.io.wavfile import read, write\n",
    "\n",
    "\n",
    "# Convert mp3 to wav using external software ffmpeg* ########\n",
    "from os import path\n",
    "from pydub import AudioSegment\n",
    "import ffmpeg\n",
    "import sys\n",
    "\n",
    "sys.path.append(r'C:\\ffmpeg-5.1.2-full_build\\bin')# PAth of local variables on local computer (MINE)\n",
    "\n",
    "#############################################################\n",
    "\n",
    "PathFolder='../Audio cleaning tool/'\n",
    "\n"
   ]
  },
  {
   "cell_type": "code",
   "execution_count": 59,
   "metadata": {},
   "outputs": [
    {
     "name": "stdout",
     "output_type": "stream",
     "text": [
      "Successfully created the directory 19-12-2022-174131 \n"
     ]
    }
   ],
   "source": [
    "## Creating folder to receive the files processed \n",
    "\n",
    "\n",
    "\n",
    "# datetime object containing current date and time\n",
    "now = datetime.now()\n",
    " \n",
    "\n",
    "# dd-mm-aaaa-hms\n",
    "dt_string = now.strftime(\"%d-%m-%Y-%H%M%S\")\n",
    "\n",
    "\n",
    "# detect the current working directory and print it\n",
    "path = os.getcwd()\n",
    "\n",
    "\n",
    "\n",
    "folder = dt_string\n",
    "\n",
    "try:\n",
    "    os.mkdir(folder)\n",
    "except OSError:\n",
    "    print (\"Creation of the directory %s failed\" % folder)\n",
    "else:\n",
    "    print (\"Successfully created the directory %s \" % folder)\n",
    "\n",
    "\n",
    "\n",
    "\n"
   ]
  },
  {
   "cell_type": "code",
   "execution_count": 60,
   "metadata": {},
   "outputs": [],
   "source": [
    "## Convertir todos los archivos a Mp3 ##########################################\n",
    "\n",
    "input_file = glob(PathFolder+'*.mp3') #Folder Path of recordings\n",
    "\n",
    "for i in input_file: # Reading each file in folder with extension mp3\n",
    "    #print(i)\n",
    "    my_string=i\n",
    "    my_string2=my_string.split(\"\\\\\",1)[1]\n",
    "    my_string3=my_string2.split(\".\",1)[0]\n",
    "    #print(my_string3) # Print the name of original file\n",
    "\n",
    "    # assign files\n",
    "    input_file = i\n",
    "    output_file = my_string3+'.wav'\n",
    "\n",
    "    # convert mp3 file to wav file\n",
    "    sound = AudioSegment.from_mp3(i)\n",
    "    sound.export(output_file, format=\"wav\")\n",
    "\n",
    "\n",
    "\n",
    "\n",
    "\n",
    "    \n",
    "\n"
   ]
  },
  {
   "cell_type": "code",
   "execution_count": 61,
   "metadata": {},
   "outputs": [],
   "source": [
    "########## Trimm all recordings ##################################\n",
    "\n",
    "input_file = glob(PathFolder+'*.wav') #Folder Path of recordings\n",
    "\n",
    "for i in input_file: # Reading each file in folder with extension mp3\n",
    "    #print(i)\n",
    "    y, sr =librosa.load(i)\n",
    "    #print(f'shape y: {y.shape}') # Verificate that signal and signal rate is being read\n",
    "    #print(f'sr:{sr}')\n",
    "    y_trimmed, _ =librosa.effects.trim(y, top_db=20)\n",
    "    my_string=i\n",
    "    my_string2=my_string.split(\"\\\\\",1)[1]\n",
    "    my_string3=my_string2.split(\".\",1)[0]\n",
    "    #print(my_string3) # Print the name of original file\n",
    "\n",
    "    # assign files\n",
    "    input_file = i\n",
    "    output_file = my_string3+'-T.wav'\n",
    "\n",
    "    write(output_file,sr, y_trimmed)\n",
    "    old_path=path+'\\\\'+my_string3+'-T.wav'\n",
    "    new_path=path+'\\\\'+folder+'\\\\'+my_string3+'-T.wav'\n",
    "    shutil.move(old_path, new_path )\n",
    "    ########  Remove temporal files\n",
    "    os.remove(my_string3+'.wav')\n",
    "\n",
    "\n"
   ]
  },
  {
   "cell_type": "code",
   "execution_count": null,
   "metadata": {},
   "outputs": [],
   "source": []
  }
 ],
 "metadata": {
  "kernelspec": {
   "display_name": "Python 3",
   "language": "python",
   "name": "python3"
  },
  "language_info": {
   "codemirror_mode": {
    "name": "ipython",
    "version": 3
   },
   "file_extension": ".py",
   "mimetype": "text/x-python",
   "name": "python",
   "nbconvert_exporter": "python",
   "pygments_lexer": "ipython3",
   "version": "3.9.13"
  },
  "orig_nbformat": 4,
  "vscode": {
   "interpreter": {
    "hash": "7d9548142526f26c382efc6f2f174ac06ee01694c89efcbdefc71b4ca62b5266"
   }
  }
 },
 "nbformat": 4,
 "nbformat_minor": 2
}
